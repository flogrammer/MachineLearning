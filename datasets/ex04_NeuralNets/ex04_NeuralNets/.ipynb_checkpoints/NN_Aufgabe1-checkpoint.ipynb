{
 "cells": [
  {
   "cell_type": "markdown",
   "metadata": {},
   "source": [
    "# Multi Layer Feedforward Neural Network:"
   ]
  },
  {
   "cell_type": "code",
   "execution_count": 1,
   "metadata": {
    "collapsed": true
   },
   "outputs": [],
   "source": [
    "import numpy as np\n",
    "# to make this notebook's output stable across runs\n",
    "np.random.seed(1)\n",
    "\n",
    "# To plot pretty figures\n",
    "%matplotlib inline\n",
    "import matplotlib\n",
    "import matplotlib.pyplot as plt\n",
    "\n",
    "from help_functions import dataset_regression"
   ]
  },
  {
   "cell_type": "markdown",
   "metadata": {},
   "source": [
    "## Aufbau des MLNN:\n",
    "Zuerst laden wir den Datensatz. Wir können die Funktion `Dataset Regression` verwenden."
   ]
  },
  {
   "cell_type": "code",
   "execution_count": 2,
   "metadata": {},
   "outputs": [
    {
     "data": {
      "image/png": "[encoded data removed]",
      "text/plain": [
       "<matplotlib.figure.Figure at 0x10a7300f0>"
      ]
     },
     "metadata": {},
     "output_type": "display_data"
    }
   ],
   "source": [
    "# Load the dataset\n",
    "n_samples = 400 # number of samples \n",
    "x1, y = dataset_regression(n_samples)\n",
    "plt.scatter(x1[:,0], y[:,0] , s=40, cmap=plt.cm.Spectral)\n",
    "plt.show()"
   ]
  },
  {
   "cell_type": "markdown",
   "metadata": {},
   "source": [
    "Zu Beginn versuchen wir eine lineare Abbildung zwischen Eingang $ x_1 $ und Ausgang $ y $ zuerstellen d.h. ohne zusätzliche versteckte schichten hinzuzufügen. Abbildung 1 zeigt dieses Netzwerk.\n",
    "\n",
    "<img src=\"img/NNKit1.png\" style=\"width:350px;height:200;\">\n",
    "<caption><center> <u> **Abbildung 1** </u>: **Lineares Modell mit keiner versteckten Ebene**<br> </center></caption>"
   ]
  },
  {
   "cell_type": "markdown",
   "metadata": {},
   "source": [
    "Ihre erste Aufgabe **die Gewichte zu Initalisieren**.\n",
    "> **Hinweis:** Gewichte sollen verschieden voneinander, zufällig, gleichverteilt und klein sein. Sie können Befehl `W = 0.01 * np.random.randn(n_x,n_y)` wobei `n_x` ist die Anzahl von Eingang + 1 und `n_y` ist die Anzahl von Ausgang. "
   ]
  },
  {
   "cell_type": "code",
   "execution_count": 3,
   "metadata": {
    "collapsed": true
   },
   "outputs": [],
   "source": [
    "n_x = 2\n",
    "n_y = 1\n",
    "W = 0.01 * np.random.randn(n_x,n_y)"
   ]
  },
  {
   "cell_type": "markdown",
   "metadata": {},
   "source": [
    "Die Beziehung zwischen Eingang und Ausgang ist linear\n",
    "$$ y_{pred} = \\sum_i w_i*x_i  $$  \n",
    "Ihre zweite Aufgabe besteht darin, zu versuchen, **diese Gleichung mit `numpy` zu implementieren** und den Code auszuführen, um das Ergebnis zu sehen.\n",
    "> **Hinweis:** $  \\sum_i w_i*x_i  $ diese Gleichung könnte als Skalarprodukt zwischen Gewicht Vektor und Eingangsvektor. Sie können Befehl `np.dot(X,W)` um Skalarprudokt mit `numpy` implementieren."
   ]
  },
  {
   "cell_type": "code",
   "execution_count": null,
   "metadata": {},
   "outputs": [],
   "source": [
    "# Bias\n",
    "x0 = np.ones((x1.shape[0],1))\n",
    "# Conatenate the bias and the input in one vector x \n",
    "X= np.concatenate([x0,x1],axis=1)\n",
    "\n",
    "# TODO: the output of the network\n",
    "y_pred = np.dot(X,W)\n",
    "\n",
    "\n",
    "# Don't change the following code\n",
    "plt.scatter(x1[:,0], y[:,0] , s=40, cmap=plt.cm.Spectral)\n",
    "plt.plot(x1[:,0],y_pred[:,0],'red')\n",
    "plt.show()"
   ]
  },
  {
   "cell_type": "markdown",
   "metadata": {},
   "source": [
    "Ihr erstes Modell passt möglicherweise nicht sehr gut zu den Daten. Suchen Sie nach einer guten Lösung für die optimalen Gewichte, um ein besseres Modell zu erhalten. Lassen Sie uns gemeinsam den Lernprozess Backpropagation durchführen. **zunächst sollte Fehlerfunktion implementiert werden** im Skript von `ML1` wurde die folgende Fehlerfunktion betrachtet,\n",
    "$$E(W) = \\frac{1}{2} \\sum (y - y_{pred})^2$$\n",
    "wobei,\n",
    "* $y$ ist  der richtige Ausgang (Target) und\n",
    "* $y_{pred}$ ist der Ausgang des Modells (Prediction)"
   ]
  },
  {
   "cell_type": "code",
   "execution_count": null,
   "metadata": {},
   "outputs": [],
   "source": [
    "# TODO: calculate the loss function\n",
    "E = 1/2* np.square(np.sum(y-y_pred))\n",
    "print('The Loss function is equal: ', E)"
   ]
  },
  {
   "cell_type": "markdown",
   "metadata": {},
   "source": [
    "Versuchen wir nun, diesen Fehler zu minimieren und die Gewichte anzupassen. Diese Änderung sollte nach dem Gradienten erfolgen.\n",
    "$$\\Delta w_{i} = -\\eta \\frac{\\partial E}{\\partial w_{i}}$$\n",
    "wobei\n",
    "* $\\eta$ ist Lernrate\n",
    "* $ i \\in {0,1} $\n",
    "$$\\begin{split}\n",
    "E(W)&  = \\frac{1}{2} \\sum (y - y_{pred})^2\\\\\n",
    " & = \\frac{1}{2} \\sum (y - \\sum_i w_ix_i)^2\n",
    "\\end{split}$$\n",
    "\n",
    "Die partielle Ableitung nach $ w_i $ lautet\n",
    "$$\\begin{split}\n",
    "\\frac{\\partial E}{\\partial w_{i}}&  = (y_{pred} - y)x_i\n",
    "\\end{split}$$"
   ]
  },
  {
   "cell_type": "code",
   "execution_count": null,
   "metadata": {},
   "outputs": [],
   "source": [
    "# Learning rate:\n",
    "eta = 0.01\n",
    "\n",
    "# Gradient Decent Todo\n",
    "dW = -eta *np.dot((y_pred - y).T,X)\n",
    "\n",
    "print('The change in wights:')\n",
    "print('dw0 = ', dW[0,0])\n",
    "print('dw1 = ', dW[0,1])"
   ]
  },
  {
   "cell_type": "markdown",
   "metadata": {},
   "source": [
    "Wir können nun diese Ergebnisse verwenden, um die Gewichtungen zu aktualisieren. Implementieren Sie die folgende Gleichung,\n",
    "$$w_i = w_i + \\Delta w_{i} $$"
   ]
  },
  {
   "cell_type": "code",
   "execution_count": null,
   "metadata": {
    "collapsed": true
   },
   "outputs": [],
   "source": [
    "# TODO: Update the weights\n",
    "W = W + dW"
   ]
  },
  {
   "cell_type": "markdown",
   "metadata": {},
   "source": [
    "Jetzt schreiben wir den ganzen Code in einem Stück,"
   ]
  },
  {
   "cell_type": "code",
   "execution_count": null,
   "metadata": {
    "collapsed": true
   },
   "outputs": [],
   "source": [
    "def LinearModel(x1,y, n_Iteration = 100000):\n",
    "    # step 0: Initialize the weights\n",
    "    n_x = 2\n",
    "    n_y = 1\n",
    "    W = 0.01 * np.random.randn(n_x,n_y)\n",
    "    costs = []\n",
    "    # step1: define the bias and Conatenate the bias and the input x1 in one vector X \n",
    "    x0 = np.ones((x1.shape[0],1))\n",
    "    X= np.concatenate([x0,x1],axis=1)\n",
    "    for i in range(n_Iteration):\n",
    "        \n",
    "        \n",
    "        # step2: TODO: the output of the network\n",
    "        y_pred = np.dot(X,W)\n",
    "        \n",
    "        # step3: TODO: calculate the loss function\n",
    "        E = 1/2* (np.sum(np.square(y-y_pred)))\n",
    "        # Record the costs\n",
    "        if i % 100 == 0:\n",
    "            costs.append(E)\n",
    "        \n",
    "        # Print the cost every 100 training examples\n",
    "        if  i % 100 == 0:\n",
    "            print (\"Cost after iteration %i: %f\" %(i, E))\n",
    "        \n",
    "        # step4: TODO Gradient Decent \n",
    "        eta = 0.0001\n",
    "#       print(X)\n",
    "        dW = eta * np.dot(X.T,(y_pred - y))\n",
    "        # step5 : TODO Update the weights\n",
    "        W = W - dW\n",
    "    return W"
   ]
  },
  {
   "cell_type": "code",
   "execution_count": null,
   "metadata": {},
   "outputs": [],
   "source": [
    "# Don't change the following code only run it\n",
    "W = LinearModel(x1,y, n_Iteration = 1000)\n",
    "\n",
    "x0 = np.ones((x1.shape[0],1))\n",
    "X= np.concatenate([x0,x1],axis=1)\n",
    "# Make a prediction \n",
    "y_pred= np.dot(X,W)\n",
    "\n",
    "# Plot the result\n",
    "plt.scatter(x1[:,0], y[:,0] , s=40, cmap=plt.cm.Spectral)\n",
    "plt.plot(x1[:,0],y_pred[:,0],'red')\n",
    "plt.show()"
   ]
  },
  {
   "cell_type": "markdown",
   "metadata": {},
   "source": [
    "### Activation Function:\n",
    "Im letzten Beispiel haben wir gesehen, dass ein lineares Modell nicht gut in die Daten passt. Daher möchten wir nun dem Modell durch eine Aktivierungsfunktion eine Nichtlinearität hinzufügen. Abbildung 2 zeigt dieses Netzwerk.\n",
    "\n",
    "<img src=\"img/NNKit2-2.png\" style=\"width:350px;height:200;\">\n",
    "<caption><center> <u> **Abbildung 2** </u>: **Nichtlineares Modell mit einer versteckten Schicht**<br> </center></caption>\n",
    "\n",
    "Im Skript von `ML1` wurden mehrere Aktivierungsfunktionen betrachtet. Eine davon ist **Sigmoid** Funktion, die durch die folgende Gleichung beschrieben werden kann.\n",
    "\n",
    "$$\\sigma = f(x) = \\frac{1}{1+e^{x}}$$\n",
    "\n",
    "Jetzt ist Ihre Aufgabe die Sigmoid Funktion mit `python` zu implemtieren, weil wir in Forward Propagation verwenden sollten"
   ]
  },
  {
   "cell_type": "code",
   "execution_count": null,
   "metadata": {
    "collapsed": true
   },
   "outputs": [],
   "source": [
    "def sigmoid(x):\n",
    "    # TODO: \n",
    "    s = 1 / (1 + np.exp(-x))\n",
    "    \n",
    "    return s "
   ]
  },
  {
   "cell_type": "markdown",
   "metadata": {},
   "source": [
    "Berechnen Sie den Gradienten der Sigmoid Funktion in Bezug auf ihren Eingang x, damit Sie ihn in Backpropagation benutzen können.\n",
    "$$\\frac{\\partial  \\sigma}{\\partial x} =  \\sigma(1- \\sigma)$$"
   ]
  },
  {
   "cell_type": "code",
   "execution_count": null,
   "metadata": {
    "collapsed": true
   },
   "outputs": [],
   "source": [
    "def sigmoid_derivative(x):\n",
    "    \n",
    "    # TODO:\n",
    "    s = sigmoid(x)\n",
    "    ds = s*(1-s)\n",
    "    \n",
    "    return ds"
   ]
  },
  {
   "cell_type": "markdown",
   "metadata": {},
   "source": [
    "### Initialisierung der Parameter\n",
    "> **Hinweis:** Gewichte sollen verschieden voneinander, zufällig, gleichverteilt und klein sein. Sie können Befehl `W = 0.01 * np.random.randn(n_x,n_y)` wobei `n_x` ist die Anzahl von Eingang + 1 (wegen Bias) und `n_y` ist die Anzahl von Ausgang. "
   ]
  },
  {
   "cell_type": "code",
   "execution_count": null,
   "metadata": {
    "collapsed": true
   },
   "outputs": [],
   "source": [
    "def parameter_initialize(n_x= 1, n_h = 1, n_y=1):\n",
    "    # TODO : initialize the weights\n",
    "    # Input layer : W1 = [w01 w11]\n",
    "    W1 = 0.01 * np.random.randn(n_x+1,n_h)\n",
    "    # Hidden layer : W2 = [w02 w12]\n",
    "    W2 = 0.01 * np.random.randn(n_h+1,n_y)\n",
    "    # save these parameters to use them again in Backward Propagation \n",
    "    parameters= {\"W1\": W1,\n",
    "                 \"W2\": W2}\n",
    "    return parameters"
   ]
  },
  {
   "cell_type": "markdown",
   "metadata": {},
   "source": [
    "### Forward Propagation:\n",
    "Der Eingang der versteckten Schicht ist\n",
    "$$ \\begin{split} Z &=  \\sum_{i=0}^1 w_{i,1}*x_{i,1} \\\\\n",
    "                          & = \\begin{bmatrix}x_{0} & x_{1} \\end{bmatrix} \\begin{bmatrix} w_{0,1} \\\\ w_{1,1} \\end{bmatrix} \\\\\n",
    "                          & = X^T W_1 \n",
    "                          \\end{split}$$\n",
    "\n",
    "wobei\n",
    "* $x_0 = 1$\n",
    "\n",
    "Der Ausgang der versteckten Schicht ist\n",
    "$$ a_1 = \\text{sigmoid}(Z) $$ \n",
    "\n",
    "Der Ausgang des Modells ist\n",
    "$$ \\begin{split} y_{pred} & =   \\sum_{i=0}^1 w_{i,2}a_{i}\\\\  \n",
    "                          & = \\begin{bmatrix}a_{0} & a_{1} \\end{bmatrix} \\begin{bmatrix} w_{0,2} \\\\ w_{1,2} \\end{bmatrix} \\\\\n",
    "                          & = A^T W_2\n",
    "                          \\end{split}$$\n",
    "\n",
    "wobei\n",
    "* $a_0 = 1$"
   ]
  },
  {
   "cell_type": "code",
   "execution_count": null,
   "metadata": {
    "collapsed": true
   },
   "outputs": [],
   "source": [
    "def forward_propagation(X,parameters):\n",
    "    # First, retrieve W1 and W2 from the dictionary \"parameters\".\n",
    "    W1 = parameters[\"W1\"]\n",
    "    W2 = parameters[\"W2\"]\n",
    "    # TODO: Implement Forward Propagation to calculate ypred\n",
    "    Z = np.dot(X,W1)\n",
    "    a1 = sigmoid(Z)\n",
    "    # concatenate a0 and a1 in one vector \n",
    "    a0 = np.ones((a1.shape[0],1))\n",
    "    A= np.concatenate([a0,a1],axis=1)\n",
    "    # TODO: the Output of your Model\n",
    "    ypred = np.dot(A,W2)\n",
    "    \n",
    "    # save  some parameters to use them again in Backward Propagation\n",
    "\n",
    "    Memory = {\"Z\": Z,\n",
    "              \"A\" : A,\n",
    "              \"ypred\": ypred}\n",
    "    \n",
    "    return ypred, Memory"
   ]
  },
  {
   "cell_type": "markdown",
   "metadata": {},
   "source": [
    "### Fehlerfunktion:\n",
    "Der Fehler ist defienret durch\n",
    "$$ F = y - y_{pred} $$\n",
    "\n",
    "und die Fehlerfunktion\n",
    "$$E(W) = \\frac{1}{2} \\sum (y - y_{pred})^2$$"
   ]
  },
  {
   "cell_type": "code",
   "execution_count": null,
   "metadata": {
    "collapsed": true
   },
   "outputs": [],
   "source": [
    "def compute_cost(Memory, y):\n",
    "    ypred = Memory[\"ypred\"]\n",
    "    # TODO: Compute the cost\n",
    "    E = 1/2* (np.sum(np.square(y-ypred)))  \n",
    "    \n",
    "    E = np.squeeze(E)     # makes sure cost is the dimension we expect.  \n",
    "    \n",
    "    return E"
   ]
  },
  {
   "cell_type": "markdown",
   "metadata": {},
   "source": [
    "### Backward Propagation:\n",
    "\n",
    "<img src=\"img/backpropagation.gif\" style=\"width:500px;height:300;\">\n",
    "<caption><center> <u> **Abbildung 2** </u>: **Nichtlineares Modell mit einer versteckten Schicht**<br> </center></caption>\n",
    "\n",
    "\n",
    "Die Fehlerfunktion kann durch die Gewichtsänderung minimiert werden\n",
    "$$E(W) = \\frac{1}{2} \\sum (y - A^T W_2)^2$$\n",
    "\n",
    "Diese Änderung soll nach dem Gradienten sein.\n",
    "\n",
    "Die partielle Ableitung der Fehlerfunktion nach Gewichtungen in der versteckten Schicht $ w_{i,2} $\n",
    "$$ dW_2 = \\begin{bmatrix} dw_{0,2} \\\\ dw_{1,2} \\end{bmatrix} = \\begin{bmatrix} \\frac{\\partial E(W)}{\\partial w_{0,2}}\\\\ \\frac{\\partial E(W)}{\\partial w_{1,2}} \\end{bmatrix}  = \\begin{bmatrix} -Fa_{0}\\\\ -Fa_{1} \\end{bmatrix} = -A^TF$$\n",
    "\n",
    "\n",
    "Die partielle Ableitung der Fehlerfunktion nach Ausgang der versteckten Schicht ist  $a_{1} $\n",
    "$$ dE =\\frac{\\partial E}{\\partial a_{1}}  = -w_{1,2}F  $$\n",
    "\n",
    "\n",
    "Wie bereits erwähnt, ist die **Sigmoid-Funktion** $\\sigma $ als die Aktivierungsfunktion verwendet wurde. Die partielle Ableitungen des Ausgangs der versteckten Schicht nach den Ausgang der Eingang Schicht $Z $\n",
    "$$\\begin{split}\n",
    "da_1 = \\frac{\\partial a_1}{\\partial Z} & = \\sigma( Z)(1-\\sigma( Z))\\\\\n",
    "& = a_1(1-a_1)\n",
    "\\end{split}$$\n",
    "\n",
    "Die partielle Ableitungen des Ausgang der Eingangsschicht $Z$ nach  den Gewichtungen in der Eingangsschicht\n",
    "$$ dZ = \\begin{bmatrix} z_0 \\\\  z_1  \\end{bmatrix} = \\begin{bmatrix} \\frac{\\partial Z}{\\partial w_{0,1}} \\\\  \\frac{\\partial Z}{\\partial w_{1,1}} \\end{bmatrix} = \\begin{bmatrix}  x_0 \\\\ x_1 \\end{bmatrix}$$\n",
    "\n",
    "\n",
    "\n",
    "Die partiellen Ableitungen der Fehlerfunktion nach den Gewichtungen in der Eingabeschicht können nun mit der **Kettenregel** berechnet werden **\n",
    "$$ dW_1 = \\begin{bmatrix} dw_{0,1} \\\\ dw_{1,1} \\end{bmatrix} = \\begin{bmatrix} \\frac{\\partial E}{\\partial w_{0,1}} \\\\ \\frac{\\partial E}{\\partial w_{1,1}} \\end{bmatrix} = dE  da_1 dZ\n",
    "$$"
   ]
  },
  {
   "cell_type": "code",
   "execution_count": null,
   "metadata": {
    "collapsed": true
   },
   "outputs": [],
   "source": [
    "def backward_propagation(parameters, Memory, X, y):\n",
    "\n",
    "    # First, retrieve W1 and W2 from the dictionary \"parameters\".\n",
    "    W1 = parameters[\"W1\"]\n",
    "    W2 = parameters[\"W2\"]\n",
    "    \n",
    "    # Second, retrieve A1 and ypred from the dictionary \"Memory\".    \n",
    "    Z = Memory[\"Z\"]\n",
    "    A = Memory[\"A\"]\n",
    "    ypred = Memory[\"ypred\"]\n",
    "\n",
    "    \n",
    "    # Backward propagation: calculate dW2 and dW1  \n",
    "    F=  y - ypred\n",
    "    dW2= - np.dot(A.T,F) \n",
    "    dE = - W2[1,0]*F\n",
    "    \n",
    "    da1 = sigmoid_derivative(Z)\n",
    "    dZ = X\n",
    "    dW1= np.dot(X.T,dE*da1)\n",
    "    ### END CODE HERE ###\n",
    "    \n",
    "    # save the gradient to use them to update the weights\n",
    "    grads = {\"dW1\": dW1,\n",
    "             \"dW2\": dW2}\n",
    "    \n",
    "    return grads"
   ]
  },
  {
   "cell_type": "markdown",
   "metadata": {},
   "source": [
    "## Hauptprogramm\n",
    "Wir haben bereits alle notwendigen Funktionen implementiert, um unser Modell zu erstellen und zu trainieren. Nun wollen wir  all diese Funktionen in einem Hauptprogramm durchführen. \n",
    "* Schritt 1: Definieren Sie die Trainingsdaten\n",
    "* Schritt 2: Initialisieren Sie die Gewichte\n",
    "* Schritt 3: Trainieren Sie Ihre Modell\n",
    "   * Forward Propagation \n",
    "   * Berechnen der Fehlerfunktion\n",
    "   * Backward Propagation\n",
    "   * Aktualisierung der Gewichte"
   ]
  },
  {
   "cell_type": "code",
   "execution_count": null,
   "metadata": {},
   "outputs": [],
   "source": [
    "costs= []\n",
    "x0 = np.ones((x1.shape[0],1))\n",
    "X= np.concatenate([x0,x1],axis=1)\n",
    "\n",
    "parameters = parameter_initialize()\n",
    "W1 = parameters[\"W1\"]\n",
    "W2 = parameters[\"W2\"]\n",
    "for i in range(4000):\n",
    "    ypred, Memory = forward_propagation(X, parameters)\n",
    "    E = compute_cost(Memory, y)\n",
    "    if i % 100 == 0:\n",
    "        costs.append(E)\n",
    "        # Print the cost every 100 training examples\n",
    "        print (\"Cost after iteration %i: %f\" %(i, E))\n",
    "            \n",
    "        \n",
    "    # Gradient Decent \n",
    "    grads = backward_propagation(parameters, Memory, X, y)\n",
    "    dW1 = grads[\"dW1\"]\n",
    "    dW2 = grads[\"dW2\"]\n",
    "    \n",
    "    eta = 0.001\n",
    "    # step5 : TODO Update the weights\n",
    "    W1 = W1 - eta*dW1\n",
    "    W2 = W2 - eta*dW2\n",
    "    \n",
    "    parameters= {\"W1\": W1,\n",
    "                 \"W2\": W2}"
   ]
  },
  {
   "cell_type": "code",
   "execution_count": null,
   "metadata": {},
   "outputs": [],
   "source": [
    "# Plot the result\n",
    "y_pred = Memory[\"ypred\"]\n",
    "plt.scatter(x1[:,0], y[:,0] , s=40, cmap=plt.cm.Spectral)\n",
    "plt.plot(x1[:,0],y_pred[:,0],'red')\n",
    "plt.show()"
   ]
  },
  {
   "cell_type": "code",
   "execution_count": null,
   "metadata": {
    "collapsed": true
   },
   "outputs": [],
   "source": []
  }
 ],
 "metadata": {
  "kernelspec": {
   "display_name": "Python 3",
   "language": "python",
   "name": "python3"
  },
  "language_info": {
   "codemirror_mode": {
    "name": "ipython",
    "version": 3
   },
   "file_extension": ".py",
   "mimetype": "text/x-python",
   "name": "python",
   "nbconvert_exporter": "python",
   "pygments_lexer": "ipython3",
   "version": "3.6.2"
  }
 },
 "nbformat": 4,
 "nbformat_minor": 2
}
