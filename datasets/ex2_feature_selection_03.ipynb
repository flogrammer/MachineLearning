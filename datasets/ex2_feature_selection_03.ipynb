{
 "cells": [
  {
   "cell_type": "code",
   "execution_count": 1,
   "metadata": {
    "collapsed": true
   },
   "outputs": [],
   "source": [
    "# Imports\n",
    "from sklearn import datasets, svm, metrics\n",
    "from sklearn.decomposition import RandomizedPCA\n",
    "import matplotlib.pyplot as plt"
   ]
  },
  {
   "cell_type": "code",
   "execution_count": 2,
   "metadata": {
    "collapsed": true
   },
   "outputs": [],
   "source": [
    "# Load in the `digits` data\n",
    "digits = datasets.load_digits()"
   ]
  },
  {
   "cell_type": "code",
   "execution_count": 3,
   "metadata": {
    "collapsed": true
   },
   "outputs": [],
   "source": [
    "# Show some images and the labels\n",
    "images_and_labels = list(zip(digits.images, digits.target))\n",
    "for index, (image, label) in enumerate(images_and_labels[:8]):\n",
    "    plt.subplot(2, 4, index + 1)\n",
    "    plt.axis('off')\n",
    "    plt.imshow(image, cmap=plt.cm.gray_r, interpolation='nearest')\n",
    "    plt.title('Training: %i' % label)\n",
    "plt.show()"
   ]
  },
  {
   "cell_type": "code",
   "execution_count": 4,
   "metadata": {},
   "outputs": [
    {
     "name": "stdout",
     "output_type": "stream",
     "text": [
      "Classification report for classifier SVC(C=1.0, cache_size=200, class_weight=None, coef0=0.0,\n",
      "  decision_function_shape='ovr', degree=3, gamma=0.001, kernel='rbf',\n",
      "  max_iter=-1, probability=False, random_state=None, shrinking=True,\n",
      "  tol=0.001, verbose=False):\n",
      "             precision    recall  f1-score   support\n",
      "\n",
      "          0       1.00      0.99      0.99        88\n",
      "          1       0.99      0.97      0.98        91\n",
      "          2       0.99      0.99      0.99        86\n",
      "          3       0.98      0.87      0.92        91\n",
      "          4       0.99      0.96      0.97        92\n",
      "          5       0.95      0.97      0.96        91\n",
      "          6       0.99      0.99      0.99        91\n",
      "          7       0.96      0.99      0.97        89\n",
      "          8       0.94      1.00      0.97        88\n",
      "          9       0.93      0.98      0.95        92\n",
      "\n",
      "avg / total       0.97      0.97      0.97       899\n",
      "\n",
      "\n",
      "Confusion matrix:\n",
      "[[87  0  0  0  1  0  0  0  0  0]\n",
      " [ 0 88  1  0  0  0  0  0  1  1]\n",
      " [ 0  0 85  1  0  0  0  0  0  0]\n",
      " [ 0  0  0 79  0  3  0  4  5  0]\n",
      " [ 0  0  0  0 88  0  0  0  0  4]\n",
      " [ 0  0  0  0  0 88  1  0  0  2]\n",
      " [ 0  1  0  0  0  0 90  0  0  0]\n",
      " [ 0  0  0  0  0  1  0 88  0  0]\n",
      " [ 0  0  0  0  0  0  0  0 88  0]\n",
      " [ 0  0  0  1  0  1  0  0  0 90]]\n"
     ]
    },
    {
     "name": "stderr",
     "output_type": "stream",
     "text": [
      "/usr/lib/python2.7/dist-packages/scipy/sparse/coo.py:200: VisibleDeprecationWarning: `rank` is deprecated; use the `ndim` attribute or function instead. To find the rank of a matrix see `numpy.linalg.matrix_rank`.\n",
      "  if np.rank(self.data) != 1 or np.rank(self.row) != 1 or np.rank(self.col) != 1:\n"
     ]
    }
   ],
   "source": [
    "# To apply a classifier on this data, we need to flatten the image, to\n",
    "# turn the data in a (samples, feature) matrix:\n",
    "n_samples = len(digits.images)\n",
    "data = digits.images.reshape((n_samples, -1))\n",
    "\n",
    "# Create a classifier: a support vector classifier\n",
    "classifier = svm.SVC(gamma=0.001)\n",
    "\n",
    "# We use the first half of the digits for training,\n",
    "# the second for testing.\n",
    "train_data = data[:n_samples / 2]\n",
    "test_data = data[n_samples / 2:]\n",
    "\n",
    "train_labels = digits.target[:n_samples / 2]\n",
    "test_labels = digits.target[n_samples / 2:]\n",
    "\n",
    "# Training\n",
    "classifier.fit(train_data, train_labels)\n",
    "\n",
    "# Testing\n",
    "predicted = classifier.predict(test_data)\n",
    "\n",
    "print(\"Classification report for classifier %s:\\n%s\\n\"\n",
    "      % (classifier, metrics.classification_report(test_labels, predicted)))\n",
    "print(\"Confusion matrix:\\n%s\" % metrics.confusion_matrix(test_labels, predicted))"
   ]
  },
  {
   "cell_type": "code",
   "execution_count": 5,
   "metadata": {},
   "outputs": [
    {
     "name": "stdout",
     "output_type": "stream",
     "text": [
      "(1797, 64)\n",
      "(1797, 2)\n",
      "[  0.   0.   5.  13.   9.   1.   0.   0.   0.   0.  13.  15.  10.  15.   5.\n",
      "   0.   0.   3.  15.   2.   0.  11.   8.   0.   0.   4.  12.   0.   0.   8.\n",
      "   8.   0.   0.   5.   8.   0.   0.   9.   8.   0.   0.   4.  11.   0.   1.\n",
      "  12.   7.   0.   0.   2.  14.   5.  10.  12.   0.   0.   0.   0.   6.  13.\n",
      "  10.   0.   0.   0.]\n",
      "[ -1.26204266  21.26913173]\n"
     ]
    },
    {
     "name": "stderr",
     "output_type": "stream",
     "text": [
      "/usr/local/lib/python2.7/dist-packages/sklearn/utils/deprecation.py:58: DeprecationWarning: Class RandomizedPCA is deprecated; RandomizedPCA was deprecated in 0.18 and will be removed in 0.20. Use PCA(svd_solver='randomized') instead. The new implementation DOES NOT store whiten ``components_``. Apply transform to get them.\n",
      "  warnings.warn(msg, category=DeprecationWarning)\n"
     ]
    }
   ],
   "source": [
    "# Create a Randomized PCA model that takes two components\n",
    "randomized_pca = RandomizedPCA(n_components=2)\n",
    "\n",
    "print digits.data.shape\n",
    "\n",
    "# Fit and transform the data to the model\n",
    "reduced_data_rpca = randomized_pca.fit_transform(digits.data)\n",
    "\n",
    "print reduced_data_rpca.shape\n",
    "\n",
    "print digits.data[0]\n",
    "print reduced_data_rpca[0]"
   ]
  },
  {
   "cell_type": "code",
   "execution_count": 6,
   "metadata": {},
   "outputs": [
    {
     "name": "stderr",
     "output_type": "stream",
     "text": [
      "/usr/lib/pymodules/python2.7/matplotlib/collections.py:548: FutureWarning: elementwise comparison failed; returning scalar instead, but in the future will perform elementwise comparison\n",
      "  if self._edgecolors == 'face':\n"
     ]
    }
   ],
   "source": [
    "colors = ['black', 'blue', 'purple', 'yellow', 'white', 'red', 'lime', 'cyan', 'orange', 'gray']\n",
    "for i in range(len(colors)):\n",
    "    x = reduced_data_rpca[:, 0][digits.target == i]\n",
    "    y = reduced_data_rpca[:, 1][digits.target == i]\n",
    "    plt.scatter(x, y, c=colors[i])\n",
    "plt.legend(digits.target_names, bbox_to_anchor=(1.05, 1), loc=2, borderaxespad=0.)\n",
    "plt.xlabel('First Principal Component')\n",
    "plt.ylabel('Second Principal Component')\n",
    "plt.title(\"PCA Scatter Plot\")\n",
    "plt.show()"
   ]
  },
  {
   "cell_type": "code",
   "execution_count": 7,
   "metadata": {},
   "outputs": [
    {
     "name": "stdout",
     "output_type": "stream",
     "text": [
      "Classification report for classifier SVC(C=1.0, cache_size=200, class_weight=None, coef0=0.0,\n",
      "  decision_function_shape='ovr', degree=3, gamma=0.001, kernel='rbf',\n",
      "  max_iter=-1, probability=False, random_state=None, shrinking=True,\n",
      "  tol=0.001, verbose=False):\n",
      "             precision    recall  f1-score   support\n",
      "\n",
      "          0       0.86      0.89      0.87        88\n",
      "          1       0.65      0.53      0.58        91\n",
      "          2       0.55      0.65      0.60        86\n",
      "          3       0.64      0.62      0.63        91\n",
      "          4       0.83      0.71      0.76        92\n",
      "          5       0.00      0.00      0.00        91\n",
      "          6       0.70      0.84      0.76        91\n",
      "          7       0.58      0.78      0.67        89\n",
      "          8       0.32      0.36      0.34        88\n",
      "          9       0.51      0.77      0.61        92\n",
      "\n",
      "avg / total       0.57      0.61      0.58       899\n",
      "\n",
      "\n",
      "Confusion matrix:\n",
      "[[78  0  0  0  0  0  6  0  1  3]\n",
      " [ 0 48  2  0  5  0  0  8 21  7]\n",
      " [ 0  0 56 19  0  0  0  0  7  4]\n",
      " [ 0  0  6 56  0  0  0 10  3 16]\n",
      " [ 0  0  1  0 65  0 23  2  1  0]\n",
      " [ 6  8  8  1  1  0  3  6 25 33]\n",
      " [ 7  0  0  0  6  0 76  0  2  0]\n",
      " [ 0 11  4  0  0  1  0 69  4  0]\n",
      " [ 0  7 21  3  1  1  0 18 32  5]\n",
      " [ 0  0  3  8  0  0  0  5  5 71]]\n"
     ]
    }
   ],
   "source": [
    "classifier2 = svm.SVC(gamma=0.001)\n",
    "\n",
    "# We use the first half of the digits for training,\n",
    "# the second for testing.\n",
    "red_train_data = reduced_data_rpca[:n_samples / 2]\n",
    "red_test_data = reduced_data_rpca[n_samples / 2:]\n",
    "\n",
    "# Training\n",
    "classifier2.fit(red_train_data, train_labels)\n",
    "\n",
    "# Testing\n",
    "predicted = classifier2.predict(red_test_data)\n",
    "\n",
    "print(\"Classification report for classifier %s:\\n%s\\n\"\n",
    "      % (classifier, metrics.classification_report(test_labels, predicted)))\n",
    "print(\"Confusion matrix:\\n%s\" % metrics.confusion_matrix(test_labels, predicted))"
   ]
  }
 ],
 "metadata": {
  "kernelspec": {
   "display_name": "Python 2",
   "language": "python",
   "name": "python2"
  },
  "language_info": {
   "codemirror_mode": {
    "name": "ipython",
    "version": 2
   },
   "file_extension": ".py",
   "mimetype": "text/x-python",
   "name": "python",
   "nbconvert_exporter": "python",
   "pygments_lexer": "ipython2",
   "version": "2.7.6"
  }
 },
 "nbformat": 4,
 "nbformat_minor": 2
}
