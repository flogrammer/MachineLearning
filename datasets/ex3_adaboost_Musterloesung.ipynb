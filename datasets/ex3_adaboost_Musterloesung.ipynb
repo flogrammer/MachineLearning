{
 "cells": [
  {
   "cell_type": "code",
   "execution_count": 41,
   "metadata": {
    "collapsed": true
   },
   "outputs": [],
   "source": [
    "import pandas as pd\n",
    "import numpy as np\n",
    "from sklearn.ensemble import ExtraTreesClassifier\n",
    "from sklearn.tree import DecisionTreeClassifier\n",
    "from sklearn import metrics\n",
    "import matplotlib.pyplot as plt"
   ]
  },
  {
   "cell_type": "code",
   "execution_count": 42,
   "metadata": {
    "collapsed": true
   },
   "outputs": [],
   "source": [
    "# load data\n",
    "url = \"https://archive.ics.uci.edu/ml/machine-learning-databases/pima-indians-diabetes/pima-indians-diabetes.data\"\n",
    "names = ['preg', 'plas', 'pres', 'skin', 'test', 'mass', 'pedi', 'age', 'class']\n",
    "dataframe = pandas.read_csv(url, names=names)\n",
    "data_values = dataframe.values # 768 samples, 9 features"
   ]
  },
  {
   "cell_type": "code",
   "execution_count": 43,
   "metadata": {},
   "outputs": [
    {
     "name": "stdout",
     "output_type": "stream",
     "text": [
      "[[   6.     148.      72.    ...,    0.627   50.       1.   ]\n",
      " [   1.      85.      66.    ...,    0.351   31.       0.   ]\n",
      " [   8.     183.      64.    ...,    0.672   32.       1.   ]\n",
      " ..., \n",
      " [   5.     121.      72.    ...,    0.245   30.       0.   ]\n",
      " [   1.     126.      60.    ...,    0.349   47.       1.   ]\n",
      " [   1.      93.      70.    ...,    0.315   23.       0.   ]]\n",
      "(768, 9)\n"
     ]
    }
   ],
   "source": [
    "print(data_values)\n",
    "print(data_values.shape)"
   ]
  },
  {
   "cell_type": "code",
   "execution_count": 70,
   "metadata": {},
   "outputs": [
    {
     "name": "stdout",
     "output_type": "stream",
     "text": [
      "768\n"
     ]
    }
   ],
   "source": [
    "feature_matrix = data_values[:,0:8]\n",
    "labels = data_values[:,8]\n",
    "\n",
    "print(len(labels))"
   ]
  },
  {
   "cell_type": "code",
   "execution_count": 71,
   "metadata": {
    "collapsed": true
   },
   "outputs": [],
   "source": [
    "train_features = feature_matrix[:450]\n",
    "train_labels = labels[:450]\n",
    "\n",
    "test_features = feature_matrix[450:]\n",
    "test_labels = labels[450:]"
   ]
  },
  {
   "cell_type": "code",
   "execution_count": 72,
   "metadata": {
    "collapsed": true
   },
   "outputs": [],
   "source": [
    "clf = DecisionTreeClassifier(max_depth=9, min_samples_leaf=1)\n",
    "clf.fit(train_features,train_labels)\n",
    "clf_error_train = clf.score(train_features, train_labels)\n",
    "clf_error_test = clf.score(test_features,test_labels)"
   ]
  },
  {
   "cell_type": "code",
   "execution_count": 74,
   "metadata": {
    "collapsed": true
   },
   "outputs": [],
   "source": [
    "def get_error_rate(pred, Y):\n",
    "    return sum(pred != Y) / float(len(Y))"
   ]
  },
  {
   "cell_type": "code",
   "execution_count": 76,
   "metadata": {
    "collapsed": true
   },
   "outputs": [],
   "source": [
    "def plot_error_rate(er_train, er_test):\n",
    "    df_error = pd.DataFrame([er_train, er_test]).T\n",
    "    df_error.columns = ['Training', 'Test']\n",
    "    plot1 = df_error.plot(linewidth = 3, figsize = (8,6),\n",
    "            color = ['lightblue', 'darkblue'], grid = True)\n",
    "    plot1.set_xlabel('Number of iterations', fontsize = 12)\n",
    "    plot1.set_xticklabels(range(0,450,50))\n",
    "    plot1.set_ylabel('Error rate', fontsize = 12)\n",
    "    plot1.set_title('Error rate vs number of iterations', fontsize = 16)\n",
    "    plt.axhline(y=er_test[0], linewidth=1, color = 'red', ls = 'dashed')\n",
    "    plt.show()"
   ]
  },
  {
   "cell_type": "code",
   "execution_count": 1,
   "metadata": {
    "collapsed": true
   },
   "outputs": [],
   "source": [
    "\"\"\" ADABOOST IMPLEMENTATION =================================================\"\"\"\n",
    "def adaboost_clf(train_features, train_labels, test_features, test_labels, M, clf):\n",
    "    n_train, n_test = len(train_features), len(test_features)\n",
    "    # Initialize weights\n",
    "    w = np.ones(n_train) / n_train\n",
    "    #Create two lists with a specific length for the predictions\n",
    "    pred_train, pred_test = [np.zeros(n_train), np.zeros(n_test)]\n",
    "    \n",
    "    for i in range(M):\n",
    "        # Fit a classifier with the specific weights\n",
    "        clf.fit(train_features, train_labels, sample_weight = w)\n",
    "        pred_train_i = clf.predict(train_features)\n",
    "        pred_test_i = clf.predict(test_features)\n",
    "        # Indicator function\n",
    "        miss = [int(x) for x in (pred_train_i != train_labels)]\n",
    "        # Equivalent with 1/-1 to update weights\n",
    "        miss2 = [x if x==1 else -1 for x in miss]\n",
    "        # Error\n",
    "        err_m = np.dot(w,miss) / sum(w)\n",
    "        # Alpha\n",
    "        alpha_m = 0.5 * np.log( (1 - err_m) / float(err_m))\n",
    "        # New weights\n",
    "        w = np.multiply(w, np.exp([float(x) * alpha_m for x in miss2]))\n",
    "        # Add to prediction\n",
    "        pred_train = [sum(x) for x in zip(pred_train, \n",
    "                                          [x * alpha_m for x in pred_train_i])]\n",
    "        pred_test = [sum(x) for x in zip(pred_test, \n",
    "                                         [x * alpha_m for x in pred_test_i])]\n",
    "    \n",
    "    pred_train, pred_test = np.sign(pred_train), np.sign(pred_test)\n",
    "    # Return error rate in train and test set\n",
    "    return get_error_rate(pred_train, train_labels), \\\n",
    "           get_error_rate(pred_test, test_labels)"
   ]
  },
  {
   "cell_type": "code",
   "execution_count": 77,
   "metadata": {},
   "outputs": [
    {
     "data": {
      "image/png": "[encoded data removed]",
      "text/plain": [
       "<matplotlib.figure.Figure at 0x7fc7fcfb2f60>"
      ]
     },
     "metadata": {},
     "output_type": "display_data"
    }
   ],
   "source": [
    "er_train, er_test = [clf_error_train], [clf_error_test]\n",
    "# Fit Adaboost classifier using a decision tree as base estimator\n",
    " # Test with different number of iterations\n",
    "x_range = range(10, 410, 10)\n",
    "for i in x_range:    \n",
    "        er_i = adaboost_clf(train_features, train_labels, test_features, test_labels, i, clf)\n",
    "        er_train.append(er_i[0])\n",
    "        er_test.append(er_i[1])\n",
    "    \n",
    "# Compare error rate vs number of iterations\n",
    "plot_error_rate(er_train, er_test)"
   ]
  },
  {
   "cell_type": "code",
   "execution_count": null,
   "metadata": {
    "collapsed": true
   },
   "outputs": [],
   "source": []
  }
 ],
 "metadata": {
  "kernelspec": {
   "display_name": "Python 3",
   "language": "python",
   "name": "python3"
  },
  "language_info": {
   "codemirror_mode": {
    "name": "ipython",
    "version": 3
   },
   "file_extension": ".py",
   "mimetype": "text/x-python",
   "name": "python",
   "nbconvert_exporter": "python",
   "pygments_lexer": "ipython3",
   "version": "3.6.3"
  }
 },
 "nbformat": 4,
 "nbformat_minor": 2
}
