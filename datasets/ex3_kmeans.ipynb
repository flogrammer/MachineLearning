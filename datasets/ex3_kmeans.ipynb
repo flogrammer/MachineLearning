{
 "cells": [
  {
   "cell_type": "code",
   "execution_count": null,
   "metadata": {
    "collapsed": true
   },
   "outputs": [],
   "source": [
    "import matplotlib.pyplot as plt\n",
    "from matplotlib import style\n",
    "style.use('ggplot')\n",
    "import numpy as np"
   ]
  },
  {
   "cell_type": "code",
   "execution_count": null,
   "metadata": {},
   "outputs": [],
   "source": [
    "#initial data points in a 2D Space\n",
    "X = np.array([[1, 2],\n",
    "              [1.5, 1.8],\n",
    "              [5, 8 ],\n",
    "              [2, 4],\n",
    "              [8, 8],\n",
    "              [7,10],\n",
    "              [1, 0.6],\n",
    "              [9,11]])\n",
    "\n",
    "plt.scatter(X[:,0], X[:,1], s=150)\n",
    "plt.show()\n",
    "\n",
    "colors = [\"g\",\"r\",\"c\",\"b\",\"k\"]"
   ]
  },
  {
   "cell_type": "code",
   "execution_count": null,
   "metadata": {},
   "outputs": [],
   "source": [
    "#Implementation of k-Means algorithm\n",
    "class K_Means:\n",
    "    #initialization of k_Means:\n",
    "    #k=2 : dividide dataset in two clusters\n",
    "    #variance of centroids\n",
    "    #max_iter: basically \"how often we want to move the centroids\"\n",
    "    def __init__(self, k=2, variance=0.001, max_iter=100):\n",
    "        self.k = k\n",
    "        self.variance = variance\n",
    "        self.max_iter = max_iter\n",
    "        \n",
    "    #EXCERCISE:\n",
    "    #E1: implement the simple k-Means algorithm of the lecture\n",
    "    #by setting initial centroids, classifying all given data points and recalculating the centroids\n",
    "    \n",
    "    def fit(self,data):\n",
    "        #central point of clusters\n",
    "        self.centroids = {}\n",
    "        \n",
    "        #choose how to set your first k centroids\n",
    "        for i in range(self.k):\n",
    "           #E1A: insert inital centroids\n",
    "\n",
    "        for i in range(self.max_iter):\n",
    "            #collectiong all classifications with self.classifications\n",
    "            self.classifications = {}\n",
    "            #setting number of clusters in set of classiifications\n",
    "            for i in range(self.k):\n",
    "                self.classifications[i] = []\n",
    "            \n",
    "            #E1B: INSERT CORE ALGORITHM HERE\n",
    "\n",
    "            #E1C: INSERT RECALCULATION OF CENTROIDS WITH OPTIMIZATION CRITERIA\n",
    "            \n",
    "    def predict(self,data):\n",
    "        #E1D: INSERT CLASSIFICATION ALGORITHM FOR PREDICTING UNKNOWN DATAPOINTS\n",
    "        return classification"
   ]
  },
  {
   "cell_type": "code",
   "execution_count": null,
   "metadata": {},
   "outputs": [],
   "source": [
    "#MAIN PROGRAM\n",
    "clf = K_Means()\n",
    "clf.fit(X)\n",
    "\n",
    "#Plotting Centroids and classified training set\n",
    "for centroid in clf.centroids:\n",
    "    plt.scatter(clf.centroids[centroid][0], clf.centroids[centroid][1],\n",
    "                marker=\"o\", color=\"k\", s=150, linewidths=5)\n",
    "\n",
    "for classification in clf.classifications:\n",
    "    color = colors[classification]\n",
    "    for featureset in clf.classifications[classification]:\n",
    "        plt.scatter(featureset[0], featureset[1], marker=\"x\", color=color, s=150, linewidths=5)\n",
    "\n",
    "#E1D: Try your Implementation with these data points. \n",
    "#These will be presented as stars and their predicted cluster color\n",
    "unknowns = np.array([[1,3],\n",
    "                     [8,9],\n",
    "                     [0,3],\n",
    "                     [5,4],\n",
    "                     [6,4],])\n",
    "\n",
    "for unknown in unknowns:\n",
    "    classification = clf.predict(unknown)\n",
    "    plt.scatter(unknown[0], unknown[1], marker=\"*\", color=colors[classification], s=150, linewidths=5)\n",
    "\n",
    "\n",
    "plt.show()"
   ]
  }
 ],
 "metadata": {
  "kernelspec": {
   "display_name": "Python 3",
   "language": "python",
   "name": "python3"
  },
  "language_info": {
   "codemirror_mode": {
    "name": "ipython",
    "version": 3
   },
   "file_extension": ".py",
   "mimetype": "text/x-python",
   "name": "python",
   "nbconvert_exporter": "python",
   "pygments_lexer": "ipython3",
   "version": "3.6.3"
  }
 },
 "nbformat": 4,
 "nbformat_minor": 2
}
