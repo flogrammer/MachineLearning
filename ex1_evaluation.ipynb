{
 "cells": [
  {
   "cell_type": "code",
   "execution_count": 2,
   "metadata": {
    "collapsed": true
   },
   "outputs": [],
   "source": [
    "import os\n",
    "import numpy as np\n",
    "from collections import Counter\n",
    "from sklearn.naive_bayes import MultinomialNB\n",
    "from sklearn.svm import LinearSVC\n",
    "from sklearn import metrics\n",
    "\n",
    "import matplotlib.pyplot as plt"
   ]
  },
  {
   "cell_type": "code",
   "execution_count": 3,
   "metadata": {
    "collapsed": true
   },
   "outputs": [],
   "source": [
    "def make_Dictionary(train_dir):\n",
    "    emails = [os.path.join(train_dir,f) for f in os.listdir(train_dir)]\n",
    "    all_words = []       \n",
    "    for mail in emails:  \n",
    "        with open(mail) as m:\n",
    "            for i,line in enumerate(m):\n",
    "                if i == 2:\n",
    "                    words = line.split()\n",
    "                    all_words += words\n",
    "    #zählen der Wörter\n",
    "    dictionary = Counter(all_words)\n",
    "    list_to_remove = list(dictionary)\n",
    "    for item in list_to_remove:\n",
    "        #entfernt sonderzeichen und 1 zeichen\n",
    "        if item.isalpha() == False: \n",
    "            del dictionary[item]\n",
    "        elif len(item) == 1:\n",
    "            del dictionary[item]\n",
    "    dictionary = dictionary.most_common(700)\n",
    "    return dictionary"
   ]
  },
  {
   "cell_type": "code",
   "execution_count": 4,
   "metadata": {
    "collapsed": true
   },
   "outputs": [],
   "source": [
    "def extract_features(mail_dir): \n",
    "    files = [os.path.join(mail_dir,fi) for fi in sorted(os.listdir(mail_dir))]\n",
    "    features_matrix = np.zeros((len(files),700))\n",
    "    docID = 0;\n",
    "    for fil in files:\n",
    "      with open(fil) as fi:\n",
    "        for i,line in enumerate(fi):\n",
    "          if i == 2:\n",
    "            words = line.split()\n",
    "            for word in words:\n",
    "              wordID = 0\n",
    "              for i,d in enumerate(dictionary):\n",
    "                if d[0] == word:\n",
    "                  wordID = i\n",
    "                  features_matrix[docID,wordID] = words.count(word)\n",
    "        docID = docID + 1     \n",
    "    return features_matrix"
   ]
  },
  {
   "cell_type": "code",
   "execution_count": 5,
   "metadata": {},
   "outputs": [
    {
     "name": "stdout",
     "output_type": "stream",
     "text": [
      "[('order', 1414), ('address', 1293), ('report', 1216), ('mail', 1127), ('send', 1079), ('language', 1072), ('email', 1051), ('program', 1001), ('our', 987), ('list', 935), ('one', 917), ('name', 878), ('receive', 826), ('money', 788), ('free', 762), ('work', 755), ('information', 677), ('business', 654), ('please', 652), ('university', 595), ('us', 564), ('day', 556), ('follow', 544), ('internet', 520), ('over', 511), ('http', 479), ('check', 472), ('call', 469), ('each', 466), ('include', 452), ('com', 448), ('linguistic', 442), ('number', 423), ('want', 420), ('letter', 419), ('need', 418), ('many', 412), ('here', 397), ('market', 395), ('start', 390), ('even', 386), ('fax', 383), ('form', 380), ('most', 377), ('first', 373), ('web', 366), ('service', 363), ('interest', 362), ('software', 352), ('remove', 349), ('read', 347), ('those', 345), ('week', 344), ('every', 332), ('credit', 329), ('ll', 326), ('site', 320), ('edu', 318), ('much', 318), ('english', 318), ('product', 317), ('bulk', 312), ('phone', 311), ('must', 299), ('two', 298), ('offer', 297), ('cost', 294), ('best', 291), ('www', 290), ('computer', 289), ('link', 283), ('state', 279), ('card', 278), ('de', 272), ('home', 268), ('available', 266), ('system', 264), ('message', 260), ('own', 260), ('after', 258), ('opportunity', 257), ('question', 257), ('place', 256), ('pay', 256), ('within', 254), ('million', 254), ('hour', 253), ('world', 253), ('write', 253), ('sell', 251), ('copy', 248), ('show', 248), ('help', 248), ('below', 247), ('same', 242), ('conference', 241), ('file', 238), ('through', 235), ('directory', 234), ('before', 232), ('easy', 229), ('where', 229), ('try', 226), ('income', 226), ('book', 226), ('thank', 225), ('tell', 222), ('today', 220), ('company', 219), ('member', 216), ('example', 215), ('word', 215), ('back', 214), ('advertise', 213), ('different', 213), ('month', 210), ('subject', 209), ('etc', 207), ('contact', 206), ('ask', 206), ('cash', 204), ('response', 204), ('little', 203), ('learn', 203), ('add', 202), ('cd', 200), ('per', 198), ('research', 198), ('linguist', 198), ('type', 197), ('anyone', 196), ('again', 196), ('down', 196), ('process', 196), ('right', 196), ('ve', 195), ('least', 195), ('is', 195), ('special', 194), ('price', 193), ('save', 192), ('provide', 192), ('level', 192), ('re', 190), ('off', 190), ('live', 190), ('require', 188), ('line', 186), ('financial', 186), ('sure', 186), ('few', 186), ('change', 186), ('post', 185), ('box', 185), ('search', 185), ('let', 184), ('ffa', 183), ('never', 181), ('paper', 179), ('four', 177), ('thing', 177), ('teach', 175), ('case', 175), ('life', 175), ('page', 174), ('participate', 173), ('great', 172), ('text', 172), ('really', 171), ('between', 170), ('both', 170), ('net', 170), ('buy', 169), ('plan', 167), ('success', 167), ('part', 166), ('simply', 164), ('instruction', 164), ('move', 164), ('request', 164), ('click', 164), ('package', 162), ('reply', 161), ('ever', 160), ('less', 160), ('point', 160), ('seem', 159), ('discourse', 158), ('several', 158), ('dollar', 158), ('step', 157), ('method', 157), ('win', 157), ('why', 157), ('theory', 157), ('student', 156), ('simple', 156), ('thousand', 155), ('put', 155), ('friend', 154), ('next', 154), ('important', 154), ('ship', 154), ('guarantee', 153), ('rate', 153), ('linguistics', 153), ('legal', 152), ('note', 150), ('fact', 150), ('course', 150), ('floodgate', 150), ('under', 148), ('account', 147), ('talk', 147), ('allow', 146), ('return', 146), ('since', 146), ('american', 145), ('keep', 145), ('until', 145), ('position', 145), ('school', 145), ('result', 144), ('ad', 143), ('analysis', 143), ('experience', 143), ('present', 143), ('remember', 142), ('study', 142), ('reference', 142), ('another', 141), ('sale', 141), ('better', 141), ('speaker', 139), ('wish', 139), ('problem', 139), ('person', 139), ('believe', 139), ('city', 139), ('group', 139), ('bank', 138), ('vium', 136), ('leave', 136), ('once', 136), ('full', 136), ('print', 135), ('lot', 135), ('section', 135), ('answer', 135), ('family', 135), ('complete', 134), ('area', 134), ('international', 134), ('plus', 134), ('total', 134), ('georgetown', 134), ('department', 133), ('too', 133), ('grammar', 133), ('date', 133), ('lose', 132), ('office', 132), ('second', 132), ('issue', 131), ('bill', 131), ('future', 131), ('earn', 131), ('above', 130), ('while', 130), ('further', 129), ('long', 129), ('amount', 127), ('mean', 127), ('ca', 126), ('set', 126), ('join', 126), ('purchase', 125), ('run', 125), ('publish', 124), ('server', 124), ('nothing', 123), ('without', 123), ('possible', 123), ('become', 123), ('adult', 123), ('video', 122), ('still', 121), ('real', 121), ('base', 120), ('accept', 120), ('already', 120), ('something', 120), ('code', 119), ('registration', 118), ('sign', 118), ('everyone', 118), ('uk', 118), ('game', 118), ('personal', 117), ('major', 117), ('support', 117), ('fee', 116), ('understand', 116), ('someone', 115), ('however', 115), ('record', 114), ('speech', 114), ('small', 113), ('detail', 113), ('visit', 113), ('minute', 112), ('mailing', 112), ('bonus', 112), ('discussion', 111), ('limit', 110), ('decide', 110), ('able', 110), ('hear', 110), ('john', 109), ('human', 108), ('job', 108), ('hard', 107), ('guide', 107), ('child', 106), ('alway', 106), ('aol', 105), ('rule', 104), ('online', 104), ('are', 104), ('exactly', 104), ('tax', 104), ('begin', 104), ('additional', 103), ('secret', 103), ('reason', 103), ('virtual', 103), ('past', 103), ('papers', 102), ('open', 102), ('either', 102), ('actually', 101), ('speak', 101), ('general', 101), ('charge', 101), ('payment', 101), ('customer', 100), ('three', 100), ('verb', 100), ('ye', 100), ('content', 99), ('sound', 99), ('application', 99), ('investment', 99), ('teacher', 99), ('break', 98), ('access', 98), ('technology', 98), ('fill', 97), ('anywhere', 97), ('profit', 97), ('immediately', 97), ('happen', 97), ('pass', 96), ('washington', 96), ('choose', 96), ('usa', 96), ('structure', 96), ('knowledge', 95), ('though', 95), ('ed', 95), ('assume', 94), ('true', 94), ('electronic', 94), ('build', 94), ('html', 94), ('abstract', 93), ('communication', 93), ('ac', 93), ('anything', 93), ('feel', 93), ('sex', 93), ('acquisition', 93), ('wait', 92), ('direct', 92), ('meet', 91), ('topic', 91), ('yourself', 91), ('material', 91), ('consider', 91), ('hand', 90), ('contain', 90), ('datum', 89), ('old', 89), ('soon', 89), ('syntax', 89), ('manual', 89), ('end', 89), ('title', 88), ('generate', 88), ('professional', 88), ('single', 88), ('standard', 88), ('ago', 87), ('create', 87), ('postal', 87), ('continue', 87), ('later', 87), ('science', 87), ('bring', 87), ('claim', 87), ('envelope', 86), ('national', 86), ('away', 86), ('participant', 85), ('kind', 85), ('everything', 85), ('delete', 84), ('top', 84), ('else', 83), ('matter', 83), ('feature', 83), ('hundred', 83), ('links', 82), ('orders', 81), ('center', 81), ('development', 81), ('phonology', 81), ('window', 81), ('stop', 81), ('march', 81), ('natural', 80), ('mention', 80), ('currency', 80), ('telephone', 80), ('involve', 80), ('pp', 80), ('express', 80), ('share', 80), ('apply', 79), ('source', 79), ('stealth', 79), ('german', 79), ('session', 79), ('large', 78), ('yours', 78), ('test', 78), ('ready', 78), ('target', 78), ('far', 78), ('action', 78), ('version', 78), ('history', 78), ('idea', 78), ('approach', 77), ('dream', 77), ('car', 77), ('watch', 77), ('advantage', 77), ('country', 77), ('relate', 77), ('woman', 77), ('visa', 77), ('handle', 76), ('figure', 76), ('tool', 76), ('view', 76), ('education', 76), ('effort', 75), ('risk', 75), ('man', 75), ('chance', 74), ('potential', 74), ('spend', 74), ('construction', 74), ('chair', 74), ('russian', 74), ('hold', 73), ('debt', 73), ('reports', 73), ('easily', 73), ('whole', 73), ('zip', 73), ('high', 73), ('value', 73), ('dr', 72), ('extra', 72), ('house', 72), ('prove', 72), ('organization', 72), ('press', 72), ('download', 72), ('turn', 72), ('current', 72), ('offshore', 72), ('law', 71), ('mind', 71), ('reach', 71), ('capitalfm', 71), ('collect', 70), ('always', 70), ('fun', 70), ('age', 70), ('music', 70), ('drive', 70), ('original', 70), ('class', 70), ('field', 70), ('society', 69), ('street', 69), ('review', 69), ('security', 68), ('york', 68), ('publication', 68), ('enter', 68), ('cut', 68), ('almost', 68), ('story', 68), ('discover', 68), ('social', 67), ('dear', 67), ('advertisement', 67), ('enclose', 67), ('engine', 67), ('select', 67), ('dialect', 67), ('against', 67), ('around', 67), ('pronoun', 67), ('probably', 67), ('effective', 67), ('millions', 67), ('format', 67), ('term', 67), ('means', 66), ('doubt', 66), ('successful', 66), ('ny', 66), ('respond', 66), ('power', 66), ('hope', 66), ('individual', 66), ('la', 66), ('st', 66), ('room', 65), ('vowel', 65), ('various', 65), ('completely', 65), ('rest', 65), ('user', 65), ('along', 64), ('inc', 64), ('big', 64), ('whether', 64), ('yet', 64), ('travel', 64), ('directly', 64), ('sales', 63), ('sentence', 63), ('rather', 63), ('deal', 63), ('native', 63), ('foreign', 63), ('quite', 62), ('train', 62), ('finally', 62), ('appear', 62), ('goal', 62), ('connection', 62), ('register', 62), ('institute', 62), ('comment', 62), ('short', 62), ('together', 62), ('mass', 62), ('increase', 62), ('shor', 62), ('produce', 61), ('id', 61), ('david', 61), ('enough', 61), ('phonetic', 61), ('invite', 60), ('raise', 60), ('vol', 60), ('certain', 60), ('miss', 60), ('resource', 60), ('object', 60), ('huge', 59), ('freedom', 59), ('main', 59), ('design', 59), ('summary', 59), ('expect', 59), ('payable', 59), ('rich', 59), ('phenomenon', 58), ('capital', 58), ('japanese', 58), ('chinese', 58), ('develop', 58), ('website', 58), ('french', 58), ('quality', 58), ('circular', 58), ('play', 57), ('ability', 57), ('entire', 57), ('journal', 57), ('query', 57), ('attention', 57), ('semantic', 57), ('explain', 57), ('mastercard', 57), ('perhap', 57), ('america', 57), ('culture', 56), ('happy', 56), ('control', 56), ('index', 56), ('academic', 56), ('lead', 56), ('advance', 56), ('multus', 56), ('domain', 56), ('aspect', 55), ('federal', 55), ('local', 55), ('associate', 55), ('especially', 55), ('po', 55), ('model', 55), ('article', 55), ('info', 55), ('dept', 55), ('low', 55), ('don', 55), ('due', 55), ('literature', 55), ('difference', 55), ('historical', 55), ('six', 54), ('specific', 54), ('mary', 54), ('exchange', 54), ('digital', 54), ('mark', 54), ('loan', 54), ('public', 54), ('sexual', 54), ('tm', 54), ('master', 54), ('reduplication', 54), ('author', 53), ('cover', 53), ('piece', 53), ('recruit', 53), ('suite', 53), ('computational', 53), ('latest', 53), ('close', 53), ('filter', 53), ('correct', 53), ('common', 53), ('profitable', 52), ('track', 52), ('seven', 52), ('spanish', 52), ('mailer', 52), ('project', 52), ('recent', 52), ('judgment', 52), ('fresh', 52), ('exist', 52), ('kid', 52), ('european', 52), ('concern', 51), ('deliver', 51), ('january', 51), ('june', 51), ('error', 51), ('invest', 51), ('prepare', 51), ('volume', 51), ('absolutely', 51), ('sometime', 51), ('college', 51), ('often', 51), ('news', 51), ('provider', 51), ('hotel', 51), ('le', 51), ('submit', 50), ('direction', 50), ('locate', 50), ('formal', 50), ('announcement', 50), ('themselve', 50), ('deat', 50), ('government', 50)]\n"
     ]
    }
   ],
   "source": [
    "# Create a dictionary of words with its frequency\n",
    "train_dir = '/Users/dariusazarfar/Downloads/ling-spam/train-mails'\n",
    "dictionary = make_Dictionary(train_dir)\n",
    "print(dictionary)\n"
   ]
  },
  {
   "cell_type": "code",
   "execution_count": 6,
   "metadata": {},
   "outputs": [
    {
     "name": "stdout",
     "output_type": "stream",
     "text": [
      "[[ 0.  0.  0. ...,  0.  1.  0.]\n",
      " [ 0.  0.  0. ...,  0.  0.  0.]\n",
      " [ 0.  0.  0. ...,  0.  0.  0.]\n",
      " ..., \n",
      " [ 0.  0.  0. ...,  0.  0.  0.]\n",
      " [ 0.  0.  0. ...,  0.  0.  0.]\n",
      " [ 0.  1.  0. ...,  0.  0.  0.]]\n"
     ]
    }
   ],
   "source": [
    "# Prepare feature vectors per training mail and its labels\n",
    "\n",
    "train_labels = np.zeros(702)\n",
    "train_labels[351:702] = 1\n",
    "train_matrix = extract_features(train_dir)\n",
    "print(train_matrix)"
   ]
  },
  {
   "cell_type": "code",
   "execution_count": 7,
   "metadata": {},
   "outputs": [
    {
     "data": {
      "text/plain": [
       "MultinomialNB(alpha=1.0, class_prior=None, fit_prior=True)"
      ]
     },
     "execution_count": 7,
     "metadata": {},
     "output_type": "execute_result"
    }
   ],
   "source": [
    "# Training SVM and Naive bayes classifier and its variants\n",
    "\n",
    "model1 = LinearSVC()\n",
    "model2 = MultinomialNB()\n",
    "\n",
    "model1.fit(train_matrix,train_labels)\n",
    "model2.fit(train_matrix,train_labels)"
   ]
  },
  {
   "cell_type": "code",
   "execution_count": 8,
   "metadata": {
    "collapsed": true
   },
   "outputs": [],
   "source": [
    "test_dir = '/Users/dariusazarfar/Downloads/ling-spam/test-mails'\n",
    "test_matrix = extract_features(test_dir)\n",
    "test_labels = np.zeros(260)\n",
    "test_labels[130:260] = 1"
   ]
  },
  {
   "cell_type": "code",
   "execution_count": 9,
   "metadata": {},
   "outputs": [
    {
     "name": "stdout",
     "output_type": "stream",
     "text": [
      "Ergebnisse von Model 2: Naive Bayes\n",
      "[[128   2]\n",
      " [ 13 117]]\n",
      "Klassifikationsfehler:  0.0576923076923\n",
      "Güte:  0.942307692308\n"
     ]
    }
   ],
   "source": [
    "result1 = model1.predict(test_matrix)\n",
    "result2 = model2.predict(test_matrix)\n",
    "\n",
    "cfm2 = metrics.confusion_matrix(test_labels,result2)\n",
    "\n",
    "#True Positive\n",
    "tp = cfm2[0][0]\n",
    "#FalsePositive\n",
    "fp = cfm2[0][1]\n",
    "#FalseNegative\n",
    "fn = cfm2[1][0]\n",
    "#TrueNegative\n",
    "tn = cfm2[1][1]\n",
    "\n",
    "print('Ergebnisse von Model 2: Naive Bayes')\n",
    "#print(confusion_matrix(test_labels,result1))\n",
    "print(cfm2)\n",
    "\n",
    "klassifikationsfehler = (fp + fn)/(tp+fp+tn+fn)\n",
    "print('Klassifikationsfehler: ', klassifikationsfehler)\n",
    "guete = (tp + tn)/(tp+fp+tn+fn)\n",
    "print('Güte: ', guete)"
   ]
  },
  {
   "cell_type": "code",
   "execution_count": 10,
   "metadata": {},
   "outputs": [
    {
     "name": "stdout",
     "output_type": "stream",
     "text": [
      "             precision    recall  f1-score   support\n",
      "\n",
      "        Ham       0.91      0.98      0.94       130\n",
      "       Spam       0.98      0.90      0.94       130\n",
      "\n",
      "avg / total       0.95      0.94      0.94       260\n",
      "\n"
     ]
    }
   ],
   "source": [
    "print(metrics.classification_report(test_labels, result2, target_names=['Ham','Spam']))"
   ]
  },
  {
   "cell_type": "code",
   "execution_count": 11,
   "metadata": {},
   "outputs": [
    {
     "data": {
      "image/png": "[encoded data removed]",
      "text/plain": [
       "<matplotlib.figure.Figure at 0x10cfc6208>"
      ]
     },
     "metadata": {},
     "output_type": "display_data"
    },
    {
     "data": {
      "image/png": "[encoded data removed]",
      "text/plain": [
       "<matplotlib.figure.Figure at 0x10cfe0cc0>"
      ]
     },
     "metadata": {},
     "output_type": "display_data"
    }
   ],
   "source": [
    "fpr1, tpr1, thresholds1 = metrics.roc_curve(test_labels, result1, pos_label=0)\n",
    "\n",
    "# Print ROC curve\n",
    "plt.plot(tpr1,fpr1)\n",
    "plt.show()\n",
    "\n",
    "fpr2, tpr2, thresholds2 = metrics.roc_curve(test_labels, result2, pos_label=0)\n",
    "\n",
    "# Print ROC curve\n",
    "plt.plot(tpr2,fpr2)\n",
    "plt.show() "
   ]
  },
  {
   "cell_type": "code",
   "execution_count": null,
   "metadata": {
    "collapsed": true
   },
   "outputs": [],
   "source": []
  }
 ],
 "metadata": {
  "kernelspec": {
   "display_name": "Python 3",
   "language": "python",
   "name": "python3"
  },
  "language_info": {
   "codemirror_mode": {
    "name": "ipython",
    "version": 3
   },
   "file_extension": ".py",
   "mimetype": "text/x-python",
   "name": "python",
   "nbconvert_exporter": "python",
   "pygments_lexer": "ipython3",
   "version": "3.6.2"
  }
 },
 "nbformat": 4,
 "nbformat_minor": 2
}
