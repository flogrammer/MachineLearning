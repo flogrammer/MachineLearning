{
 "cells": [
  {
   "cell_type": "code",
   "execution_count": 1,
   "metadata": {
    "collapsed": true
   },
   "outputs": [],
   "source": [
    "import os\n",
    "import numpy as np\n",
    "from collections import Counter\n",
    "from sklearn.naive_bayes import MultinomialNB\n",
    "from sklearn.svm import LinearSVC\n",
    "from sklearn import metrics\n",
    "import matplotlib.pyplot as plt\n",
    "\n",
    "#Global Variables and parameters\n",
    "INPUT_WORDS = 700"
   ]
  },
  {
   "cell_type": "code",
   "execution_count": 2,
   "metadata": {},
   "outputs": [],
   "source": [
    "#Create dictionary for the specified train_dir\n",
    "def make_Dictionary(train_dir):\n",
    "    emails = [os.path.join(train_dir,f) for f in os.listdir(train_dir)]\n",
    "    all_words = []      \n",
    "    for mail in emails:  \n",
    "        with open(mail) as m:\n",
    "            for i,line in enumerate(m):  \n",
    "                if i == 2:\n",
    "                    words = line.split()\n",
    "                    all_words += words #Add words to list\n",
    "    #Count all words\n",
    "    dictionary = Counter(all_words)\n",
    "    list_to_remove = list(dictionary)\n",
    "    for item in list_to_remove:\n",
    "        #remove special characters and 1's\n",
    "        if item.isalpha() == False: \n",
    "            del dictionary[item]\n",
    "        elif len(item) == 1:\n",
    "            del dictionary[item]\n",
    "    dictionary = dictionary.most_common(INPUT_WORDS) #Use the most common 700 words as input \n",
    "    return dictionary"
   ]
  },
  {
   "cell_type": "code",
   "execution_count": 3,
   "metadata": {
    "collapsed": true
   },
   "outputs": [],
   "source": [
    "def extract_features(mail_dir): \n",
    "    files = [os.path.join(mail_dir,fi) for fi in sorted(os.listdir(mail_dir))]\n",
    "    features_matrix = np.zeros((len(files),700))\n",
    "    docID = 0;\n",
    "    for fil in files:\n",
    "      with open(fil) as fi:\n",
    "        for i,line in enumerate(fi):\n",
    "          if i == 2:\n",
    "            words = line.split()\n",
    "            for word in words:\n",
    "              wordID = 0\n",
    "              for i,d in enumerate(dictionary):\n",
    "                if d[0] == word:\n",
    "                  wordID = i\n",
    "                  features_matrix[docID,wordID] = words.count(word)\n",
    "        docID = docID + 1     \n",
    "    return features_matrix"
   ]
  },
  {
   "cell_type": "code",
   "execution_count": 4,
   "metadata": {},
   "outputs": [
    {
     "name": "stdout",
     "output_type": "stream",
     "text": [
      "[('order', 1414), ('address', 1293), ('report', 1216), ('mail', 1127), ('send', 1079), ('language', 1072), ('email', 1051), ('program', 1001), ('our', 987), ('list', 935), ('one', 917), ('name', 878), ('receive', 826), ('money', 788), ('free', 762), ('work', 755), ('information', 677), ('business', 654), ('please', 652), ('university', 595), ('us', 564), ('day', 556), ('follow', 544), ('internet', 520), ('over', 511), ('http', 479), ('check', 472), ('call', 469), ('each', 466), ('include', 452), ('com', 448), ('linguistic', 442), ('number', 423), ('want', 420), ('letter', 419), ('need', 418), ('many', 412), ('here', 397), ('market', 395), ('start', 390), ('even', 386), ('fax', 383), ('form', 380), ('most', 377), ('first', 373), ('web', 366), ('service', 363), ('interest', 362), ('software', 352), ('remove', 349), ('read', 347), ('those', 345), ('week', 344), ('every', 332), ('credit', 329), ('ll', 326), ('site', 320), ('much', 318), ('english', 318), ('edu', 318), ('product', 317), ('bulk', 312), ('phone', 311), ('must', 299), ('two', 298), ('offer', 297), ('cost', 294), ('best', 291), ('www', 290), ('computer', 289), ('link', 283), ('state', 279), ('card', 278), ('de', 272), ('home', 268), ('available', 266), ('system', 264), ('message', 260), ('own', 260), ('after', 258), ('question', 257), ('opportunity', 257), ('place', 256), ('pay', 256), ('within', 254), ('million', 254), ('write', 253), ('hour', 253), ('world', 253), ('sell', 251), ('help', 248), ('copy', 248), ('show', 248), ('below', 247), ('same', 242), ('conference', 241), ('file', 238), ('through', 235), ('directory', 234), ('before', 232), ('where', 229), ('easy', 229), ('book', 226), ('try', 226), ('income', 226), ('thank', 225), ('tell', 222), ('today', 220), ('company', 219), ('member', 216), ('word', 215), ('example', 215), ('back', 214), ('different', 213), ('advertise', 213), ('month', 210), ('subject', 209), ('etc', 207), ('ask', 206), ('contact', 206), ('response', 204), ('cash', 204), ('little', 203), ('learn', 203), ('add', 202), ('cd', 200), ('linguist', 198), ('research', 198), ('per', 198), ('type', 197), ('down', 196), ('process', 196), ('anyone', 196), ('again', 196), ('right', 196), ('least', 195), ('is', 195), ('ve', 195), ('special', 194), ('price', 193), ('level', 192), ('provide', 192), ('save', 192), ('re', 190), ('off', 190), ('live', 190), ('require', 188), ('few', 186), ('change', 186), ('line', 186), ('sure', 186), ('financial', 186), ('box', 185), ('post', 185), ('search', 185), ('let', 184), ('ffa', 183), ('never', 181), ('paper', 179), ('thing', 177), ('four', 177), ('teach', 175), ('case', 175), ('life', 175), ('page', 174), ('participate', 173), ('text', 172), ('great', 172), ('really', 171), ('between', 170), ('both', 170), ('net', 170), ('buy', 169), ('success', 167), ('plan', 167), ('part', 166), ('move', 164), ('request', 164), ('instruction', 164), ('simply', 164), ('click', 164), ('package', 162), ('reply', 161), ('less', 160), ('point', 160), ('ever', 160), ('seem', 159), ('discourse', 158), ('several', 158), ('dollar', 158), ('theory', 157), ('method', 157), ('why', 157), ('win', 157), ('step', 157), ('student', 156), ('simple', 156), ('put', 155), ('thousand', 155), ('next', 154), ('important', 154), ('friend', 154), ('ship', 154), ('linguistics', 153), ('rate', 153), ('guarantee', 153), ('legal', 152), ('fact', 150), ('note', 150), ('course', 150), ('floodgate', 150), ('under', 148), ('account', 147), ('talk', 147), ('return', 146), ('since', 146), ('allow', 146), ('school', 145), ('position', 145), ('american', 145), ('keep', 145), ('until', 145), ('result', 144), ('analysis', 143), ('experience', 143), ('present', 143), ('ad', 143), ('study', 142), ('reference', 142), ('remember', 142), ('another', 141), ('better', 141), ('sale', 141), ('speaker', 139), ('city', 139), ('wish', 139), ('problem', 139), ('group', 139), ('believe', 139), ('person', 139), ('bank', 138), ('full', 136), ('vium', 136), ('leave', 136), ('once', 136), ('lot', 135), ('answer', 135), ('print', 135), ('family', 135), ('section', 135), ('international', 134), ('area', 134), ('total', 134), ('complete', 134), ('plus', 134), ('georgetown', 134), ('department', 133), ('date', 133), ('grammar', 133), ('too', 133), ('second', 132), ('office', 132), ('lose', 132), ('bill', 131), ('issue', 131), ('future', 131), ('earn', 131), ('while', 130), ('above', 130), ('further', 129), ('long', 129), ('mean', 127), ('amount', 127), ('ca', 126), ('set', 126), ('join', 126), ('run', 125), ('purchase', 125), ('publish', 124), ('server', 124), ('possible', 123), ('become', 123), ('without', 123), ('nothing', 123), ('adult', 123), ('video', 122), ('still', 121), ('real', 121), ('something', 120), ('base', 120), ('accept', 120), ('already', 120), ('code', 119), ('registration', 118), ('uk', 118), ('sign', 118), ('everyone', 118), ('game', 118), ('support', 117), ('major', 117), ('personal', 117), ('understand', 116), ('fee', 116), ('however', 115), ('someone', 115), ('record', 114), ('speech', 114), ('small', 113), ('visit', 113), ('detail', 113), ('minute', 112), ('bonus', 112), ('mailing', 112), ('discussion', 111), ('able', 110), ('hear', 110), ('decide', 110), ('limit', 110), ('john', 109), ('human', 108), ('job', 108), ('hard', 107), ('guide', 107), ('child', 106), ('alway', 106), ('aol', 105), ('begin', 104), ('rule', 104), ('are', 104), ('tax', 104), ('online', 104), ('exactly', 104), ('additional', 103), ('reason', 103), ('past', 103), ('virtual', 103), ('secret', 103), ('either', 102), ('papers', 102), ('open', 102), ('payment', 101), ('general', 101), ('speak', 101), ('charge', 101), ('actually', 101), ('three', 100), ('verb', 100), ('ye', 100), ('customer', 100), ('teacher', 99), ('application', 99), ('content', 99), ('sound', 99), ('investment', 99), ('break', 98), ('technology', 98), ('access', 98), ('fill', 97), ('happen', 97), ('anywhere', 97), ('immediately', 97), ('profit', 97), ('usa', 96), ('structure', 96), ('washington', 96), ('pass', 96), ('choose', 96), ('ed', 95), ('though', 95), ('knowledge', 95), ('build', 94), ('electronic', 94), ('assume', 94), ('html', 94), ('true', 94), ('anything', 93), ('communication', 93), ('ac', 93), ('acquisition', 93), ('abstract', 93), ('sex', 93), ('feel', 93), ('direct', 92), ('wait', 92), ('consider', 91), ('meet', 91), ('topic', 91), ('material', 91), ('yourself', 91), ('contain', 90), ('hand', 90), ('syntax', 89), ('old', 89), ('datum', 89), ('manual', 89), ('end', 89), ('soon', 89), ('single', 88), ('title', 88), ('standard', 88), ('professional', 88), ('generate', 88), ('ago', 87), ('later', 87), ('claim', 87), ('bring', 87), ('science', 87), ('continue', 87), ('postal', 87), ('create', 87), ('national', 86), ('away', 86), ('envelope', 86), ('participant', 85), ('kind', 85), ('everything', 85), ('top', 84), ('delete', 84), ('matter', 83), ('else', 83), ('feature', 83), ('hundred', 83), ('links', 82), ('development', 81), ('phonology', 81), ('center', 81), ('march', 81), ('stop', 81), ('window', 81), ('orders', 81), ('natural', 80), ('telephone', 80), ('mention', 80), ('involve', 80), ('share', 80), ('express', 80), ('pp', 80), ('currency', 80), ('source', 79), ('session', 79), ('german', 79), ('apply', 79), ('stealth', 79), ('idea', 78), ('history', 78), ('version', 78), ('large', 78), ('far', 78), ('action', 78), ('test', 78), ('ready', 78), ('target', 78), ('yours', 78), ('relate', 77), ('approach', 77), ('advantage', 77), ('car', 77), ('country', 77), ('woman', 77), ('visa', 77), ('dream', 77), ('watch', 77), ('education', 76), ('view', 76), ('tool', 76), ('figure', 76), ('handle', 76), ('man', 75), ('effort', 75), ('risk', 75), ('construction', 74), ('spend', 74), ('chair', 74), ('potential', 74), ('russian', 74), ('chance', 74), ('value', 73), ('high', 73), ('easily', 73), ('hold', 73), ('zip', 73), ('whole', 73), ('debt', 73), ('reports', 73), ('dr', 72), ('house', 72), ('extra', 72), ('current', 72), ('organization', 72), ('turn', 72), ('press', 72), ('prove', 72), ('download', 72), ('offshore', 72), ('law', 71), ('mind', 71), ('reach', 71), ('capitalfm', 71), ('field', 70), ('original', 70), ('class', 70), ('age', 70), ('drive', 70), ('collect', 70), ('music', 70), ('fun', 70), ('always', 70), ('society', 69), ('review', 69), ('street', 69), ('publication', 68), ('discover', 68), ('almost', 68), ('cut', 68), ('enter', 68), ('story', 68), ('york', 68), ('security', 68), ('social', 67), ('around', 67), ('enclose', 67), ('dialect', 67), ('pronoun', 67), ('term', 67), ('effective', 67), ('against', 67), ('dear', 67), ('select', 67), ('format', 67), ('probably', 67), ('advertisement', 67), ('engine', 67), ('millions', 67), ('la', 66), ('successful', 66), ('power', 66), ('hope', 66), ('respond', 66), ('st', 66), ('ny', 66), ('means', 66), ('individual', 66), ('doubt', 66), ('room', 65), ('various', 65), ('vowel', 65), ('rest', 65), ('completely', 65), ('user', 65), ('directly', 64), ('whether', 64), ('yet', 64), ('along', 64), ('inc', 64), ('travel', 64), ('big', 64), ('foreign', 63), ('deal', 63), ('rather', 63), ('native', 63), ('sentence', 63), ('sales', 63), ('quite', 62), ('short', 62), ('register', 62), ('train', 62), ('institute', 62), ('finally', 62), ('appear', 62), ('goal', 62), ('comment', 62), ('together', 62), ('connection', 62), ('mass', 62), ('increase', 62), ('shor', 62), ('david', 61), ('phonetic', 61), ('produce', 61), ('enough', 61), ('id', 61), ('object', 60), ('invite', 60), ('vol', 60), ('raise', 60), ('certain', 60), ('resource', 60), ('miss', 60), ('payable', 59), ('design', 59), ('expect', 59), ('summary', 59), ('main', 59), ('rich', 59), ('freedom', 59), ('huge', 59), ('circular', 58), ('french', 58), ('phenomenon', 58), ('chinese', 58), ('develop', 58), ('quality', 58), ('japanese', 58), ('capital', 58), ('website', 58), ('query', 57), ('attention', 57), ('ability', 57), ('semantic', 57), ('journal', 57), ('perhap', 57), ('america', 57), ('play', 57), ('explain', 57), ('entire', 57), ('mastercard', 57), ('control', 56), ('culture', 56), ('advance', 56), ('domain', 56), ('academic', 56), ('index', 56), ('lead', 56), ('multus', 56), ('happy', 56), ('literature', 55), ('article', 55), ('aspect', 55), ('due', 55), ('po', 55), ('historical', 55), ('model', 55), ('local', 55), ('federal', 55), ('dept', 55), ('low', 55), ('info', 55), ('especially', 55), ('difference', 55), ('associate', 55), ('don', 55), ('reduplication', 54), ('exchange', 54), ('specific', 54), ('mary', 54), ('digital', 54), ('mark', 54), ('six', 54), ('master', 54), ('public', 54), ('loan', 54), ('sexual', 54), ('tm', 54), ('cover', 53), ('correct', 53), ('computational', 53), ('author', 53), ('common', 53), ('suite', 53), ('latest', 53), ('close', 53), ('piece', 53), ('recruit', 53), ('filter', 53), ('european', 52), ('recent', 52), ('spanish', 52), ('project', 52), ('track', 52), ('judgment', 52), ('exist', 52), ('mailer', 52), ('kid', 52), ('seven', 52), ('fresh', 52), ('profitable', 52), ('hotel', 51), ('prepare', 51), ('le', 51), ('volume', 51), ('college', 51), ('often', 51), ('absolutely', 51), ('june', 51), ('january', 51), ('sometime', 51), ('concern', 51), ('deliver', 51), ('error', 51), ('news', 51), ('provider', 51), ('invest', 51), ('deat', 50), ('submit', 50), ('announcement', 50), ('formal', 50), ('locate', 50), ('love', 50), ('direction', 50), ('themselve', 50)]\n"
     ]
    }
   ],
   "source": [
    "# Create a dictionary of words with its frequency\n",
    "train_dir = 'C:/Users/Florian/Desktop/Programmierprojekt Python/Machine Learning 1/Machine Learning Implementations/MachineLearning/datasets/ling-spam/train-mails'\n",
    "dictionary = make_Dictionary(train_dir)\n",
    "print(dictionary)\n"
   ]
  },
  {
   "cell_type": "code",
   "execution_count": 5,
   "metadata": {},
   "outputs": [
    {
     "name": "stdout",
     "output_type": "stream",
     "text": [
      "test\n"
     ]
    }
   ],
   "source": [
    "# Prepare feature vectors per training mail and its labels\n",
    "\n",
    "train_labels = np.zeros(INPUT_WORDS + 2) #Returning an array of zeros\n",
    "train_labels[351:702] = 1\n",
    "train_matrix = extract_features(train_dir)"
   ]
  },
  {
   "cell_type": "code",
   "execution_count": 6,
   "metadata": {},
   "outputs": [
    {
     "data": {
      "text/plain": [
       "MultinomialNB(alpha=1.0, class_prior=None, fit_prior=True)"
      ]
     },
     "execution_count": 6,
     "metadata": {},
     "output_type": "execute_result"
    }
   ],
   "source": [
    "# Training SVM and Naive bayes classifier and its variants\n",
    "\n",
    "model1 = LinearSVC() #Support Vector classification\n",
    "model2 = MultinomialNB() #Naive bayes classificator for multinomial modals, discrete \n",
    "\n",
    "model1.fit(train_matrix,train_labels)\n",
    "model2.fit(train_matrix,train_labels)"
   ]
  },
  {
   "cell_type": "code",
   "execution_count": 7,
   "metadata": {
    "collapsed": true
   },
   "outputs": [],
   "source": [
    "test_dir = 'C:/Users/Florian/Desktop/Programmierprojekt Python/Machine Learning 1/Machine Learning Implementations/MachineLearning/datasets/ling-spam/test-mails'\n",
    "test_matrix = extract_features(test_dir)\n",
    "test_labels = np.zeros(260)\n",
    "test_labels[130:260] = 1"
   ]
  },
  {
   "cell_type": "code",
   "execution_count": 8,
   "metadata": {},
   "outputs": [
    {
     "name": "stdout",
     "output_type": "stream",
     "text": [
      "Ergebnisse von Model 2: Naive Bayes\n",
      "[[128   2]\n",
      " [ 13 117]]\n",
      "Klassifikationsfehler:  0.0576923076923\n",
      "Güte:  0.942307692308\n"
     ]
    }
   ],
   "source": [
    "result1 = model1.predict(test_matrix)\n",
    "result2 = model2.predict(test_matrix)\n",
    "\n",
    "cfm2 = metrics.confusion_matrix(test_labels,result2)\n",
    "\n",
    "#True Positive\n",
    "tp = cfm2[0][0]\n",
    "#FalsePositive\n",
    "fp = cfm2[0][1]\n",
    "#FalseNegative\n",
    "fn = cfm2[1][0]\n",
    "#TrueNegative\n",
    "tn = cfm2[1][1]\n",
    "\n",
    "print('Ergebnisse von Model 2: Naive Bayes')\n",
    "#print(confusion_matrix(test_labels,result1))\n",
    "print(cfm2)\n",
    "\n",
    "klassifikationsfehler = (fp + fn)/(tp+fp+tn+fn)\n",
    "print('Klassifikationsfehler: ', klassifikationsfehler)\n",
    "guete = (tp + tn)/(tp+fp+tn+fn)\n",
    "print('Güte: ', guete)"
   ]
  },
  {
   "cell_type": "code",
   "execution_count": 9,
   "metadata": {},
   "outputs": [
    {
     "name": "stdout",
     "output_type": "stream",
     "text": [
      "             precision    recall  f1-score   support\n",
      "\n",
      "        Ham       0.91      0.98      0.94       130\n",
      "       Spam       0.98      0.90      0.94       130\n",
      "\n",
      "avg / total       0.95      0.94      0.94       260\n",
      "\n"
     ]
    }
   ],
   "source": [
    "print(metrics.classification_report(test_labels, result2, target_names=['Ham','Spam']))"
   ]
  },
  {
   "cell_type": "code",
   "execution_count": 10,
   "metadata": {},
   "outputs": [
    {
     "data": {
      "image/png": "[encoded data removed]",
      "text/plain": [
       "<matplotlib.figure.Figure at 0x2871bfe1b38>"
      ]
     },
     "metadata": {},
     "output_type": "display_data"
    },
    {
     "data": {
      "image/png": "[encoded data removed]",
      "text/plain": [
       "<matplotlib.figure.Figure at 0x2871bfbbe48>"
      ]
     },
     "metadata": {},
     "output_type": "display_data"
    }
   ],
   "source": [
    "fpr1, tpr1, thresholds1 = metrics.roc_curve(test_labels, result1, pos_label=0)\n",
    "\n",
    "# Print ROC curve\n",
    "plt.plot(tpr1,fpr1)\n",
    "plt.show()\n",
    "\n",
    "fpr2, tpr2, thresholds2 = metrics.roc_curve(test_labels, result2, pos_label=0)\n",
    "\n",
    "# Print ROC curve\n",
    "plt.plot(tpr2,fpr2)\n",
    "plt.show() "
   ]
  }
 ],
 "metadata": {
  "kernelspec": {
   "display_name": "Python 3",
   "language": "python",
   "name": "python3"
  },
  "language_info": {
   "codemirror_mode": {
    "name": "ipython",
    "version": 3
   },
   "file_extension": ".py",
   "mimetype": "text/x-python",
   "name": "python",
   "nbconvert_exporter": "python",
   "pygments_lexer": "ipython3",
   "version": "3.6.3"
  }
 },
 "nbformat": 4,
 "nbformat_minor": 2
}
