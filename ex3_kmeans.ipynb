{
 "cells": [
  {
   "cell_type": "code",
   "execution_count": 2,
   "metadata": {
    "collapsed": true
   },
   "outputs": [],
   "source": [
    "import matplotlib.pyplot as plt\n",
    "from matplotlib import style\n",
    "style.use('ggplot')\n",
    "import numpy as np\n"
   ]
  },
  {
   "cell_type": "code",
   "execution_count": 3,
   "metadata": {},
   "outputs": [
    {
     "data": {
      "image/png": "[encoded data removed]",
      "text/plain": [
       "<matplotlib.figure.Figure at 0x2663f0b1278>"
      ]
     },
     "metadata": {},
     "output_type": "display_data"
    }
   ],
   "source": [
    "#initial data points in a 2D Space\n",
    "X = np.array([[3, 2],\n",
    "              [4, 5],\n",
    "              [12, 9],\n",
    "              [7, 0],\n",
    "              [5, 2],\n",
    "              [6,5],\n",
    "              [2, 4],\n",
    "              [8, 8],\n",
    "              [7,10],\n",
    "              [2,4],\n",
    "              [1, 0.6],\n",
    "              [9,11]])\n",
    "\n",
    "plt.scatter(X[:,0], X[:,1], s=150)\n",
    "plt.show()\n",
    "\n",
    "colors = [\"g\",\"r\",\"c\",\"b\",\"k\", \"g\", \"r\", \"c\"]"
   ]
  },
  {
   "cell_type": "code",
   "execution_count": 6,
   "metadata": {
    "collapsed": true
   },
   "outputs": [],
   "source": [
    "#Implementation of k-Means algorithm\n",
    "class K_Means:\n",
    "    #initialization of k_Means:\n",
    "    #k=2 : dividide dataset in two clusters\n",
    "    #variance of centroids\n",
    "    #max_iter: basically \"how often we want to move the centroids\"\n",
    "    def __init__(self, k=3, variance=0.001, max_iter=100):\n",
    "        self.k = k\n",
    "        self.variance = variance\n",
    "        self.max_iter = max_iter\n",
    "        \n",
    "    #EXCERCISE:\n",
    "    #E1: implement the simple k-Means algorithm of the lecture\n",
    "    #by setting initial centroids, classifying all given data points and recalculating the centroids\n",
    "    \n",
    "    def fit(self,data):\n",
    "        self.steps = {} \n",
    "        for i in range(self.k):\n",
    "            self.steps[i] = []\n",
    "        \n",
    "        #central point of clusters\n",
    "        self.centroids = {} #Empty dictionary\n",
    "        #choose how to set your first k centroids\n",
    "        for i in range(self.k):\n",
    "           #E1A: insert inital centroids\n",
    "            self.centroids[i] = X[i]\n",
    "            self.steps[i].append(list(X[i]))\n",
    "        \n",
    "        iterationIndex = 0\n",
    "        for i in range(self.max_iter):\n",
    "            iterationIndex += 1\n",
    "            noChange = True\n",
    "            #collectiong all classifications with self.classifications\n",
    "            self.classifications = {}\n",
    "            #setting number of clusters in set of classiifications         \n",
    "            for i in range(self.k):\n",
    "                self.classifications[i] = []\n",
    "            #E1B: INSERT CORE ALGORITHM HERE\n",
    "            for x in X:\n",
    "                distances = []\n",
    "                for key, j in self.centroids.items():\n",
    "                    distance = np.linalg.norm(x-j)\n",
    "                    distances.append(distance)\n",
    "                self.classifications[distances.index(min(distances))].append(list(x))\n",
    "            #E1C: INSERT RECALCULATION OF CENTROIDS WITH OPTIMIZATION CRITERIA\n",
    "\n",
    "            for key, value in self.centroids.items():\n",
    "                length = len(self.classifications[key])\n",
    "                c = np.array(self.classifications[key])\n",
    "                c = np.sum(c, axis=0)\n",
    "                c = c/length\n",
    "                if np.linalg.norm(c-value) > self.variance:\n",
    "                    self.centroids[key] = c\n",
    "                    self.steps[key].append(list(c))\n",
    "                    noChange = False\n",
    "            if noChange:\n",
    "                print(\"Finished the K-Means algorithm after \" + str(iterationIndex) + \" iterations\")\n",
    "                return \n",
    "    def predict(self,data):\n",
    "        #E1D: INSERT CLASSIFICATION ALGORITHM FOR PREDICTING UNKNOWN DATAPOINTS\n",
    "        for datapoint in data:\n",
    "                distances = []\n",
    "                for key, j in self.centroids.items():\n",
    "                    distance = np.linalg.norm(datapoint-j)\n",
    "                    distances.append(distance)\n",
    "                classification = distances.index(min(distances))\n",
    "        return classification"
   ]
  },
  {
   "cell_type": "code",
   "execution_count": 7,
   "metadata": {},
   "outputs": [
    {
     "name": "stdout",
     "output_type": "stream",
     "text": [
      "Finished the K-Means algorithm after 2 iterations\n"
     ]
    },
    {
     "data": {
      "image/png": "[encoded data removed]",
      "text/plain": [
       "<matplotlib.figure.Figure at 0x2663f1c4ba8>"
      ]
     },
     "metadata": {},
     "output_type": "display_data"
    }
   ],
   "source": [
    "#MAIN PROGRAM\n",
    "clf = K_Means()\n",
    "clf.fit(X)\n",
    "\n",
    "\n",
    "#Plotting Centroids and classified training set\n",
    "\n",
    "\n",
    "    \n",
    "for centroid in clf.centroids:\n",
    "    plt.scatter(clf.centroids[centroid][0], clf.centroids[centroid][1],\n",
    "                marker=\"o\", color=\"k\", s=150, linewidths=5, zorder=1)\n",
    "\n",
    "# Coloring according to classifications\n",
    "for classification in clf.classifications:\n",
    "    color = colors[classification]\n",
    "    color2 = colors[classification+2]\n",
    "    for featureset in clf.classifications[classification]:\n",
    "        plt.scatter(featureset[0], featureset[1],  color=color, s=150, linewidths=5, zorder=-1)\n",
    "    for centroidstep in clf.steps[classification]:\n",
    "        plt.scatter(centroidstep[0], centroidstep[1], marker=\"o\",  color=color2, s=2, linewidths=5, zorder=2)\n",
    "\n",
    "\n",
    "#E1D: Try your Implementation with these data points. \n",
    "#These will be presented as stars and their predicted cluster color\n",
    "# THIS WORKS ON THE TRAINED MODEL AND SIMULATES TEST DATA!\n",
    "unknowns = np.array([[1,3],\n",
    "                     [8,9],\n",
    "                     [0,3],\n",
    "                     [5,4],\n",
    "                     [6,4],])\n",
    "\n",
    "for unknown in unknowns:\n",
    "    classification = clf.predict(unknown)\n",
    "    plt.scatter(unknown[0], unknown[1], marker=\"*\", color=colors[classification], s=150, linewidths=5)\n",
    "\n",
    "\n",
    "plt.show()"
   ]
  },
  {
   "cell_type": "code",
   "execution_count": null,
   "metadata": {
    "collapsed": true
   },
   "outputs": [],
   "source": []
  },
  {
   "cell_type": "code",
   "execution_count": null,
   "metadata": {
    "collapsed": true
   },
   "outputs": [],
   "source": []
  }
 ],
 "metadata": {
  "kernelspec": {
   "display_name": "Python 3",
   "language": "python",
   "name": "python3"
  },
  "language_info": {
   "codemirror_mode": {
    "name": "ipython",
    "version": 3
   },
   "file_extension": ".py",
   "mimetype": "text/x-python",
   "name": "python",
   "nbconvert_exporter": "python",
   "pygments_lexer": "ipython3",
   "version": "3.6.3"
  }
 },
 "nbformat": 4,
 "nbformat_minor": 2
}
